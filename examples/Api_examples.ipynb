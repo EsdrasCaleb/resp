{
 "cells": [
  {
   "cell_type": "code",
   "execution_count": 29,
   "id": "14f0a707",
   "metadata": {},
   "source": [
    "from resp.apis.serp_api import Serp\n",
    "from resp.apis.cnnp import connected_papers\n",
    "from resp.apis.semantic_s import Semantic_Scholar\n",
    "from resp.apis.acm_api import ACM\n",
    "from resp.apis.arxiv_api import Arxiv\n",
    "from resp.resp import Resp"
   ],
   "outputs": []
  },
  {
   "cell_type": "code",
   "execution_count": 3,
   "id": "96b27bd7",
   "metadata": {},
   "source": [
    "Paper_names = ['Zero-shot learning with common sense knowledge graphs']\n",
    "keyword     = ['Zero-shot learning']\n",
    "api_key     = 'get_key_from_serp_api'"
   ],
   "outputs": []
  },
  {
   "cell_type": "code",
   "execution_count": 4,
   "id": "f677a735",
   "metadata": {},
   "source": [
    "qs      = Serp(api_key)"
   ],
   "outputs": []
  },
  {
   "cell_type": "markdown",
   "id": "9274256e",
   "metadata": {},
   "source": [
    "### Get all citations of a paper"
   ]
  },
  {
   "cell_type": "code",
   "execution_count": 6,
   "id": "075f9ec7",
   "metadata": {},
   "source": [
    "%%capture\n",
    "# collection of all citations\n",
    "result = qs.get_citations(Paper_names[0])"
   ],
   "outputs": []
  },
  {
   "cell_type": "code",
   "execution_count": 8,
   "id": "6d6c5c58",
   "metadata": {},
   "source": [
    "result['e0251c184803d5e43f43b8a175b9bfc6']"
   ],
   "outputs": []
  },
  {
   "cell_type": "markdown",
   "id": "c008b818",
   "metadata": {},
   "source": [
    "### Get all related paper of a single paper from google scholar"
   ]
  },
  {
   "cell_type": "code",
   "execution_count": 9,
   "id": "931a4fda",
   "metadata": {},
   "source": [
    "%%capture\n",
    "# Testing all related papers of a research paper from google scholar\n",
    "rl_result             = qs.get_related_pages(Paper_names[0])"
   ],
   "outputs": []
  },
  {
   "cell_type": "code",
   "execution_count": 11,
   "id": "095c6a61",
   "metadata": {},
   "source": [
    "rl_result['5d0128d1ea70972349587d570158f12c']"
   ],
   "outputs": []
  },
  {
   "cell_type": "markdown",
   "id": "ecbcbe01",
   "metadata": {},
   "source": [
    "### get all related papers from connectedpapers.com"
   ]
  },
  {
   "cell_type": "code",
   "execution_count": 16,
   "id": "c4b6008a",
   "metadata": {},
   "source": [
    "# connected papers shows a list based on your search parameter n implies how many paper's graph\n",
    "# you want to extract, usually the first result is extract paper so n = 1 will be good option\n",
    "cp     = connected_papers()\n",
    "papers = cp.download_papers(Paper_names[0], n=1)\n"
   ],
   "outputs": []
  },
  {
   "cell_type": "code",
   "execution_count": 17,
   "id": "a60a80e9",
   "metadata": {},
   "source": [
    "papers"
   ],
   "outputs": []
  },
  {
   "cell_type": "markdown",
   "id": "ae0ab3e7",
   "metadata": {},
   "source": [
    "### Get relevant papers from arxiv based on keyword"
   ]
  },
  {
   "cell_type": "code",
   "execution_count": 23,
   "id": "2bc5b5ff",
   "metadata": {},
   "source": [
    "ap           = Arxiv()\n",
    "arxiv_result = ap.arxiv('Zero-shot learning', max_pages = 1)"
   ],
   "outputs": []
  },
  {
   "cell_type": "code",
   "execution_count": 24,
   "id": "61fae8ca",
   "metadata": {},
   "source": [
    "arxiv_result"
   ],
   "outputs": []
  },
  {
   "cell_type": "markdown",
   "id": "e6c20605",
   "metadata": {},
   "source": [
    "### Get relevant papers from ACM digital library based on keyword"
   ]
  },
  {
   "cell_type": "code",
   "execution_count": 25,
   "id": "0a4d74c9",
   "metadata": {},
   "source": [
    "ac           = ACM()\n",
    "acm_result   = ac.acm('Zero-shot learning', max_pages = 1)"
   ],
   "outputs": []
  },
  {
   "cell_type": "code",
   "execution_count": 26,
   "id": "fdb29044",
   "metadata": {},
   "source": [
    "acm_result"
   ],
   "outputs": []
  },
  {
   "cell_type": "markdown",
   "id": "ac6ca08c",
   "metadata": {},
   "source": [
    "### Get relevant papers from Semantic_Scholar based on keyword\n"
   ]
  },
  {
   "cell_type": "code",
   "execution_count": 27,
   "id": "e3608a09",
   "metadata": {},
   "source": [
    "sc           = Semantic_Scholar()\n",
    "sc_result    = sc.ss('Zero-shot learning', max_pages = 1)"
   ],
   "outputs": []
  },
  {
   "cell_type": "code",
   "execution_count": 28,
   "id": "e714eb1b",
   "metadata": {},
   "source": [
    "sc_result"
   ],
   "outputs": []
  },
  {
   "cell_type": "markdown",
   "id": "c5880338",
   "metadata": {},
   "source": [
    "### Get relevant papers from ACL based on keyword ( based on serp_api )\n"
   ]
  },
  {
   "cell_type": "code",
   "execution_count": 34,
   "id": "0d45af6e",
   "metadata": {},
   "source": [
    "paper_engine = Resp(api_key)"
   ],
   "outputs": []
  },
  {
   "cell_type": "code",
   "execution_count": 35,
   "id": "8f6b6cc9",
   "metadata": {},
   "source": [
    "acl_result = paper_engine.acl('Zero-shot learning', max_pages = 2)"
   ],
   "outputs": []
  },
  {
   "cell_type": "code",
   "execution_count": 36,
   "id": "78d68907",
   "metadata": {},
   "source": [
    "acl_result"
   ],
   "outputs": []
  },
  {
   "cell_type": "markdown",
   "id": "33bba62c",
   "metadata": {},
   "source": [
    "### Get relevant papers from PMLR based on keyword ( based on serp_api )\n"
   ]
  },
  {
   "cell_type": "code",
   "execution_count": 37,
   "id": "c43501eb",
   "metadata": {},
   "source": [
    "### Get relevant papers from PMLR based on keyword ( based on serp_api )\n",
    "pmlr_result = paper_engine.pmlr('Zero-shot learning', max_pages = 2)"
   ],
   "outputs": []
  },
  {
   "cell_type": "code",
   "execution_count": 38,
   "id": "9d479b52",
   "metadata": {},
   "source": [
    "pmlr_result"
   ],
   "outputs": []
  },
  {
   "cell_type": "markdown",
   "id": "aca3a810",
   "metadata": {},
   "source": [
    "### Get relevant papers from NeurlPS based on keyword ( based on serp_api )\n"
   ]
  },
  {
   "cell_type": "code",
   "execution_count": 39,
   "id": "33f8ea76",
   "metadata": {},
   "source": [
    "### Get relevant papers from nips based on keyword ( based on serp_api )\n",
    "nips_result = paper_engine.nips('Zero-shot learning', max_pages = 2)"
   ],
   "outputs": []
  },
  {
   "cell_type": "code",
   "execution_count": 40,
   "id": "debd24cf",
   "metadata": {},
   "source": [
    "nips_result"
   ],
   "outputs": []
  },
  {
   "cell_type": "markdown",
   "id": "1c3c173a",
   "metadata": {},
   "source": [
    "#### Get relevant papers from any conference website based on keyword ( based on serp_api )\n",
    "\n",
    "\n"
   ]
  },
  {
   "cell_type": "code",
   "execution_count": 43,
   "id": "739e2f9b",
   "metadata": {},
   "source": [
    "websit_result = paper_engine.custom_search(url       = 'https://link.springer.com', \n",
    "                                           keyword   = 'Zero-shot learning', \n",
    "                                           max_pages = 1)"
   ],
   "outputs": []
  },
  {
   "cell_type": "code",
   "execution_count": 44,
   "id": "56890f32",
   "metadata": {},
   "source": [
    "websit_result"
   ],
   "outputs": []
  },
  {
   "cell_type": "code",
   "execution_count": null,
   "id": "28a5d81e",
   "metadata": {},
   "source": [],
   "outputs": []
  }
 ],
 "metadata": {
  "kernelspec": {
   "display_name": "Python 3 (ipykernel)",
   "language": "python",
   "name": "python3"
  },
  "language_info": {
   "codemirror_mode": {
    "name": "ipython",
    "version": 3
   },
   "file_extension": ".py",
   "mimetype": "text/x-python",
   "name": "python",
   "nbconvert_exporter": "python",
   "pygments_lexer": "ipython3",
   "version": "3.8.9"
  }
 },
 "nbformat": 4,
 "nbformat_minor": 5
}
